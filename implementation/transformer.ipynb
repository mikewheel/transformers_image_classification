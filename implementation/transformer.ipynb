{
 "cells": [
  {
   "cell_type": "markdown",
   "metadata": {
    "collapsed": true,
    "id": "7LnDKfyAazPd",
    "pycharm": {
     "name": "#%% md\n"
    }
   },
   "source": [
    "# Vision Transformer in PyTorch\n",
    "## DS4440: Practical Neural Networks Final Project\n",
    "\n",
    "Written by Michael Wheeler, December 2020\n",
    "\n",
    "Original implementation available [here](https://github.com/google-research/vision_transformer).\n"
   ]
  },
  {
   "cell_type": "code",
   "execution_count": 1,
   "metadata": {
    "id": "4RwfrjuiazPe",
    "pycharm": {
     "name": "#%%\n"
    }
   },
   "outputs": [],
   "source": [
    "import csv\n",
    "import matplotlib.pyplot as plt\n",
    "import torch\n",
    "import torch.nn.functional as F\n",
    "import torchvision\n",
    "\n",
    "from datetime import datetime\n",
    "from PIL import Image\n",
    "from sklearn.metrics import accuracy_score"
   ]
  },
  {
   "cell_type": "markdown",
   "metadata": {
    "id": "12ZZMz6xazPf",
    "pycharm": {
     "name": "#%% md\n"
    }
   },
   "source": [
    "Definitions for model training utility functions."
   ]
  },
  {
   "cell_type": "code",
   "execution_count": 2,
   "metadata": {
    "id": "JyGzJBGSazPg",
    "pycharm": {
     "name": "#%%\n"
    }
   },
   "outputs": [],
   "source": [
    "# Taken from the in-class exercise on 2020-10-15 covering image classification with CNNs\n",
    "def train_model(optimizer, model, train_loader, device, epochs=5):\n",
    "    # Switch to train\n",
    "    model.train()\n",
    "\n",
    "    losses = []\n",
    "    for epoch in range(epochs):\n",
    "        epoch_losses = []\n",
    "        \n",
    "        for i, (images, labels) in enumerate(train_loader):\n",
    "            images = images.to(device)\n",
    "            labels = labels.to(device)\n",
    "\n",
    "            # forwards\n",
    "            outputs = model(images)\n",
    "            loss = criterion(outputs, labels)\n",
    "\n",
    "            # backwards\n",
    "            optimizer.zero_grad()\n",
    "            loss.backward()\n",
    "\n",
    "            # update params\n",
    "            optimizer.step()\n",
    "\n",
    "            epoch_losses.append(loss.item())\n",
    "        \n",
    "        losses.append(epoch_losses)\n",
    "            \n",
    "    return losses\n",
    "\n",
    "\n",
    "# Taken from the in-class exercise on 2020-10-15 covering image classification with CNNs\n",
    "def test_model(model, test_loader, device):\n",
    "    # Switch to evaluation\n",
    "    model.eval()\n",
    "\n",
    "    y, y_hat = [], []\n",
    "\n",
    "    with torch.no_grad():\n",
    "        for X_i, y_i in test_loader:\n",
    "            X_i, y_i = X_i.to(device), y_i.to(device)\n",
    "            y_hat_i = model(X_i)\n",
    "            y.extend(y_i.detach().cpu().tolist())\n",
    "            discrete_preds = y_hat_i.argmax(dim=1).detach().cpu()\n",
    "            y_hat.extend(discrete_preds)\n",
    "\n",
    "    return y, y_hat\n",
    "\n",
    "\n",
    "def save_image_from_array(img, path, mode=\"RGB\"):\n",
    "    img = Image.fromarray(img, mode)\n",
    "    img.save(path)"
   ]
  },
  {
   "cell_type": "markdown",
   "metadata": {
    "id": "wQGXlNKrazPg"
   },
   "source": [
    "Definition of the Vision Transformer class itself."
   ]
  },
  {
   "cell_type": "code",
   "execution_count": 3,
   "metadata": {
    "id": "8qWy8AO1azPg",
    "pycharm": {
     "name": "#%%\n"
    }
   },
   "outputs": [],
   "source": [
    "class VisionTransformer(torch.nn.Module):\n",
    "    \"\"\"PyTorch implementation of the algorithm described in 'An Image is Worth 16x16 Words: Transformers for Image\n",
    "       Recognition At Scale' by Dosovitskiy et al.\n",
    "\n",
    "       Original implementation is available here: https://github.com/google-research/vision_transformer\n",
    "       \"\"\"\n",
    "\n",
    "    def __init__(self, h, w, c, num_classes, device=\"cpu\"):\n",
    "        super().__init__()\n",
    "\n",
    "        self.device = device\n",
    "\n",
    "        # Data dimensions\n",
    "        self.H = h  # Height of an image in pixels\n",
    "        self.W = w  # Width of an image in pixels\n",
    "        self.C = c  # Number of channels of the image (e.g. RGB=3)\n",
    "        self.num_classes = num_classes  # Number of possible classes in the output data\n",
    "\n",
    "        # Model parameters\n",
    "        # See Table 1 of Dosovitsky et al. for other options\n",
    "        self.image_patch_size = 4  # Patch resolution\n",
    "        self.num_patches = int((self.H * self.W) / (self.image_patch_size ** 2))  # Check N\n",
    "        self.transformer_hidden_size = 288  # Embedding dimensions throughout the Transformer\n",
    "        self.transformer_num_layers = 12  # Number of Transformer encoder layers\n",
    "        self.transformer_num_heads = 12  # Number of heads for multi-headed self attention in the Transformer\n",
    "        self.transformer_MLP_size = 512  # dimension of feed-forward layer in the Transformer\n",
    "        self.transformer_activation = \"gelu\"\n",
    "        self.dropout_prob = 0.1\n",
    "\n",
    "        # Model layers\n",
    "        # Patching and embedding: Done at once in the original implementation\n",
    "        self.patch_embedding_layer = torch.nn.Conv2d(in_channels=self.C, out_channels=self.transformer_hidden_size,\n",
    "                                                     kernel_size=(self.image_patch_size, self.image_patch_size),\n",
    "                                                     stride=(self.image_patch_size, self.image_patch_size))\n",
    "\n",
    "        # Position embedding layer\n",
    "        self.position_embedding_layer = torch.nn.Embedding(num_embeddings=self.num_patches+1,\n",
    "                                                           embedding_dim=self.transformer_hidden_size)\n",
    "\n",
    "        # Transformer itself: out-of-the-box this isn't structured exactly like the original ViT implementation\n",
    "        # Specifically the application of LayerNorm happens after MSA/MLP (as in Vaswani et al.) instead of before\n",
    "        self.encoder_layer = torch.nn.TransformerEncoderLayer(d_model=self.transformer_hidden_size,\n",
    "                                                              nhead=self.transformer_num_heads, dropout=self.dropout_prob,\n",
    "                                                              dim_feedforward=self.transformer_MLP_size,\n",
    "                                                              activation=self.transformer_activation)\n",
    "        self.encoder = torch.nn.TransformerEncoder(encoder_layer=self.encoder_layer,\n",
    "                                                   num_layers=self.transformer_num_layers)\n",
    "\n",
    "        # The final classification head: \"one hidden layer at pre-training time, linear layer only at fine-tuning time\"\n",
    "        self.classification_head = torch.nn.Sequential(\n",
    "            torch.nn.Linear(in_features=self.transformer_hidden_size, out_features=self.transformer_hidden_size),\n",
    "            torch.nn.Tanh(),\n",
    "            torch.nn.Linear(in_features=self.transformer_hidden_size, out_features=self.num_classes),\n",
    "            torch.nn.Softmax(dim=2),\n",
    "        )\n",
    "\n",
    "    def forward(self, x):\n",
    "        batch_size = x.shape[0]\n",
    "\n",
    "        # Patch the images, flatten, and linearly embed: all in one step!\n",
    "        x_patches = self.patch_embedding_layer(x)\n",
    "        # Flatten down to a list of patches instead of a grid\n",
    "        x_patches = x_patches.flatten(start_dim=2)\n",
    "        assert x_patches.shape[2] == self.num_patches\n",
    "\n",
    "        # Zero initialize a class token Tensor\n",
    "        class_token = torch.zeros(*(1, self.transformer_hidden_size, 1),\n",
    "                                  device=self.device)\n",
    "        class_token = class_token.repeat(*(batch_size, 1, 1))\n",
    "        # Concatenate to the beginning of the patch sequence\n",
    "        x_patches_with_class = torch.cat((class_token, x_patches), dim=2)\n",
    "        assert x_patches_with_class.shape[2] == self.num_patches + 1\n",
    "\n",
    "        # Add position embeddings to the sequence\n",
    "        position_embeddings = self.position_embedding_layer(torch.arange(end=self.num_patches+1, device=self.device))\n",
    "        position_embeddings = torch.transpose(*(position_embeddings, 0, 1))\n",
    "        x_patches_with_class_and_posn = x_patches_with_class + position_embeddings\n",
    "        assert x_patches_with_class_and_posn.shape[1] == self.transformer_hidden_size\n",
    "\n",
    "        # Pass the data through the Transformer encoder\n",
    "        x_patches_with_class_and_posn = x_patches_with_class_and_posn.permute(*(2, 0, 1))\n",
    "        transformer_out = self.encoder(x_patches_with_class_and_posn)\n",
    "\n",
    "        # Take from the Transformer's output the learned class token only\n",
    "        transformer_out_class_token = transformer_out[0, :, :].unsqueeze(0)\n",
    "\n",
    "        # Note: Since we're using PyTorch's built-in Transformer encoder an additional LayerNorm is not necessary here\n",
    "        # Pass it through the classification head\n",
    "        out = self.classification_head(transformer_out_class_token)\n",
    "        assert out.shape[2] == 10\n",
    "        return torch.squeeze(out)"
   ]
  },
  {
   "cell_type": "markdown",
   "metadata": {
    "pycharm": {
     "name": "#%% md\n"
    }
   },
   "source": [
    "Definition of the baseline CNN as a point of comparison."
   ]
  },
  {
   "cell_type": "code",
   "execution_count": 4,
   "metadata": {
    "pycharm": {
     "name": "#%%\n"
    }
   },
   "outputs": [],
   "source": [
    "class BaselineCNN(torch.nn.Module):\n",
    "    \"\"\"Adapted from the example code at this PyTorch tutorial using CIFAR-10:\n",
    "       https://pytorch.org/tutorials/beginner/blitz/cifar10_tutorial.html\n",
    "       \"\"\"\n",
    "\n",
    "    def __init__(self, h, w, c, num_classes, device=\"cpu\"):\n",
    "        super().__init__()\n",
    "\n",
    "        self.device = device\n",
    "\n",
    "        # Data dimensions\n",
    "        self.H = h  # Height of an image in pixels\n",
    "        self.W = w  # Width of an image in pixels\n",
    "        self.C = c  # Number of channels of the image (e.g. RGB=3)\n",
    "        self.num_classes = num_classes  # Number of possible classes in the output data\n",
    "\n",
    "        self.conv_1 = torch.nn.Conv2d(in_channels=self.C, out_channels=6, kernel_size=8)\n",
    "        self.pool_1 = torch.nn.MaxPool2d(2, 2)\n",
    "        self.conv_2 = torch.nn.Conv2d(in_channels=6, out_channels=16, kernel_size=4)\n",
    "        self.pool_2 = torch.nn.MaxPool2d(2, 2)\n",
    "        self.linear_1 = torch.nn.Linear(in_features=16 * 4 * 4, out_features=128)\n",
    "        self.linear_2 = torch.nn.Linear(in_features=128, out_features=64)\n",
    "        self.linear_3 = torch.nn.Linear(in_features=64, out_features=self.num_classes)\n",
    "\n",
    "    def forward(self, x):\n",
    "        x = self.pool_1(F.relu(self.conv_1(x)))\n",
    "        x = self.pool_2(F.relu(self.conv_2(x)))\n",
    "        x = x.view(-1, 16 * 4 * 4)\n",
    "        x = F.relu(self.linear_1(x))\n",
    "        x = F.relu(self.linear_2(x))\n",
    "        x = F.softmax(self.linear_3(x))\n",
    "        return x"
   ]
  },
  {
   "cell_type": "markdown",
   "metadata": {
    "id": "iTFZwwFEazPg",
    "pycharm": {
     "name": "#%% md\n"
    }
   },
   "source": [
    "Set up model training hyperparameters:"
   ]
  },
  {
   "cell_type": "code",
   "execution_count": 5,
   "metadata": {
    "id": "ol6TePDqazPh",
    "pycharm": {
     "name": "#%%\n"
    }
   },
   "outputs": [],
   "source": [
    "# Global parameters\n",
    "this_device = \"cpu\"\n",
    "num_epochs = 500\n",
    "batch_size = 512\n",
    "adam_learning_rate = 0.00015\n",
    "adam_betas = (0.9, 0.999)\n",
    "criterion = torch.nn.CrossEntropyLoss()"
   ]
  },
  {
   "cell_type": "markdown",
   "metadata": {
    "id": "UM94L2QQazPh"
   },
   "source": [
    "Load the CIFAR-10 data:"
   ]
  },
  {
   "cell_type": "code",
   "execution_count": 6,
   "metadata": {
    "colab": {
     "base_uri": "https://localhost:8080/"
    },
    "id": "ZAxJSk4AazPh",
    "outputId": "f25295e3-ff81-4a5d-9c3f-d3c0a0bfbfb8",
    "pycharm": {
     "name": "#%%\n"
    }
   },
   "outputs": [
    {
     "name": "stdout",
     "output_type": "stream",
     "text": [
      "Files already downloaded and verified\n",
      "Files already downloaded and verified\n"
     ]
    }
   ],
   "source": [
    "# Load CIFAR-10\n",
    "cifar10_train_dataset = torchvision.datasets.CIFAR10(root=\"./data\",\n",
    "                                                     train=True, download=True,\n",
    "                                                     transform=torchvision.transforms.ToTensor())\n",
    "cifar10_test_dataset = torchvision.datasets.CIFAR10(root=\"./data\",\n",
    "                                                    train=False, download=True,\n",
    "                                                    transform=torchvision.transforms.ToTensor())\n",
    "\n",
    "# Make data loaders\n",
    "cifar10_train_data_loader = torch.utils.data.DataLoader(cifar10_train_dataset, \n",
    "                                                        batch_size=batch_size, \n",
    "                                                        shuffle=True)\n",
    "cifar10_test_data_loader = torch.utils.data.DataLoader(cifar10_test_dataset, \n",
    "                                                       batch_size=batch_size, \n",
    "                                                       shuffle=True)\n",
    "\n",
    "# Get image resolution, num channels\n",
    "assert cifar10_train_dataset.data.shape[1:] == cifar10_test_dataset.data.shape[1:], \\\n",
    "    \"Train and test image dimensions don't match!\"\n",
    "N, H, W, C = cifar10_train_dataset.data.shape\n",
    "assert len(cifar10_train_dataset.classes) == len(cifar10_test_dataset.classes), \\\n",
    "    \"Train and test number of classes don't match!\"  # Sanity check but not strictly necessary\n",
    "cifar10_num_classes = len(cifar10_train_dataset.classes)"
   ]
  },
  {
   "cell_type": "markdown",
   "metadata": {
    "id": "4VAbs8rbazPh",
    "pycharm": {
     "name": "#%% md\n"
    }
   },
   "source": [
    "Initialize the model objects:"
   ]
  },
  {
   "cell_type": "code",
   "execution_count": 7,
   "metadata": {
    "id": "sjB5s1HfazPi",
    "pycharm": {
     "name": "#%%\n"
    }
   },
   "outputs": [
    {
     "name": "stdout",
     "output_type": "stream",
     "text": [
      "Number of parameters in ViT: 8306250\n",
      "Number of parameters in baseline CNN: 44512\n"
     ]
    }
   ],
   "source": [
    "ViT_model = VisionTransformer(h=H, w=W, c=C, num_classes=cifar10_num_classes, device=this_device)\n",
    "ViT_model.to(ViT_model.device)\n",
    "ViT_optimizer = torch.optim.Adam(params=ViT_model.parameters(), lr=adam_learning_rate, betas=adam_betas)\n",
    "print(f'Number of parameters in ViT: {sum(p.numel() for p in ViT_model.parameters() if p.requires_grad)}')\n",
    "\n",
    "baseline_model = BaselineCNN(h=H, w=W, c=C, num_classes=cifar10_num_classes, device=this_device)\n",
    "baseline_model.to(baseline_model.device)\n",
    "baseline_optimizer = torch.optim.Adam(params=baseline_model.parameters(), lr=adam_learning_rate, betas=adam_betas)\n",
    "print(f'Number of parameters in baseline CNN: {sum(p.numel() for p in baseline_model.parameters() if p.requires_grad)}')"
   ]
  },
  {
   "cell_type": "markdown",
   "metadata": {},
   "source": [
    "Set up an experiment to evaluate improvement of test set top-1 accuracy over the course of model training."
   ]
  },
  {
   "cell_type": "code",
   "execution_count": null,
   "metadata": {
    "pycharm": {
     "name": "#%%\n"
    }
   },
   "outputs": [],
   "source": [
    "def perform_test_over_epochs_experiment(model, optimizer, name, eval_freq=5):\n",
    "    training_losses = []\n",
    "    test_performance_over_epochs = {}\n",
    "\n",
    "    with open(f'{name}_test_set_accuracy_over_epochs.csv', \"w\") as f:\n",
    "            csv_writer = csv.writer(f)\n",
    "            csv_writer.writerow([\"Epoch\", \"Test Set Accuracy\"])\n",
    "\n",
    "    for epoch in range(1, num_epochs+1):\n",
    "        print(f'Begin Epoch {epoch}: {datetime.now()}')\n",
    "        training_losses += train_model(optimizer, model,\n",
    "                                       cifar10_train_data_loader, this_device,\n",
    "                                       epochs=1)\n",
    "\n",
    "        if epoch % eval_freq == 0:\n",
    "            y, y_hat = test_model(model, cifar10_test_data_loader, this_device)\n",
    "            test_accuracy = accuracy_score(y, y_hat)\n",
    "\n",
    "            print(f'Test accuracy at epoch {epoch}: {round(test_accuracy, 4)}')\n",
    "            test_performance_over_epochs[epoch] = test_accuracy\n",
    "\n",
    "            # Export the results of the experiment as we go\n",
    "            with open(f'{name}_test_set_accuracy_over_epochs.csv', \"a\") as f:\n",
    "                csv_writer = csv.writer(f)\n",
    "                csv_writer.writerow([epoch, test_accuracy])\n",
    "\n",
    "    return training_losses, test_performance_over_epochs"
   ]
  },
  {
   "cell_type": "markdown",
   "metadata": {
    "id": "ctesXuQ0azPi",
    "pycharm": {
     "name": "#%% md\n"
    }
   },
   "source": [
    "Train and evaluate the baseline model:"
   ]
  },
  {
   "cell_type": "code",
   "execution_count": null,
   "metadata": {
    "colab": {
     "base_uri": "https://localhost:8080/"
    },
    "id": "N7lCnVpTazPi",
    "outputId": "a9363ff8-7028-417f-8218-d7554d85390c",
    "pycharm": {
     "name": "#%%\n"
    }
   },
   "outputs": [],
   "source": [
    "baseline_results = perform_test_over_epochs_experiment(baseline_model, baseline_optimizer, name=\"baseline\")"
   ]
  },
  {
   "cell_type": "markdown",
   "metadata": {},
   "source": [
    "Train and evaluate the ViT model:"
   ]
  },
  {
   "cell_type": "code",
   "execution_count": null,
   "metadata": {
    "pycharm": {
     "name": "#%%\n"
    }
   },
   "outputs": [],
   "source": [
    "ViT_results = perform_test_over_epochs_experiment(ViT_model, ViT_optimizer, name=\"ViT\")"
   ]
  },
  {
   "cell_type": "markdown",
   "source": [
    "Produce a plot of test-set performance over epochs for each model:\n",
    "(I switched from CoLab to desktop here, hence the config import and slightly different path)"
   ],
   "metadata": {
    "collapsed": false
   }
  },
  {
   "cell_type": "code",
   "execution_count": 11,
   "outputs": [
    {
     "data": {
      "text/plain": "<Figure size 576x576 with 1 Axes>",
      "image/png": "[encoded data removed]"
     },
     "metadata": {
      "needs_background": "light"
     },
     "output_type": "display_data"
    }
   ],
   "source": [
    "import config\n",
    "\n",
    "baseline_epochs = []\n",
    "baseline_test_acc = []\n",
    "ViT_epochs = []\n",
    "ViT_test_acc = []\n",
    "\n",
    "with open(config.BASE_DIR / \"data\" / \"baseline_test_set_accuracy_over_epochs.csv\", \"r\") as baseline_f, \\\n",
    "    open(config.BASE_DIR / \"data\" / \"ViT_test_set_accuracy_over_epochs.csv\", \"r\") as ViT_f:\n",
    "\n",
    "    baseline_reader = csv.reader(baseline_f)\n",
    "    next(baseline_reader)\n",
    "    for epoch, test_acc in baseline_reader:\n",
    "        baseline_epochs.append(int(float(epoch)))\n",
    "        baseline_test_acc.append(float(test_acc))\n",
    "\n",
    "    ViT_reader = csv.reader(ViT_f)\n",
    "    next(ViT_reader)\n",
    "    for epoch, test_acc in ViT_reader:\n",
    "        ViT_epochs.append(int(float(epoch)))\n",
    "        ViT_test_acc.append(float(test_acc))\n",
    "\n",
    "\n",
    "# https://stackoverflow.com/a/41717533/8857601\n",
    "plt.rcParams[\"figure.figsize\"] = (8, 8)\n",
    "plt.ylim(0, 1)\n",
    "plt.grid(b=True, axis='both')\n",
    "\n",
    "baseline_line = plt.plot(baseline_epochs, baseline_test_acc, 'go', label=\"Baseline CNN\")\n",
    "ViT_line = plt.plot(ViT_epochs, ViT_test_acc, 'bs', label=\"Vision Transformer\")\n",
    "plt.title(\"Top-1 Accuracy on CIFAR-10 Test Set vs Training Epochs\")\n",
    "plt.legend()\n",
    "plt.savefig(config.BASE_DIR / \"test_acc_vs_epochs.png\")\n",
    "plt.show()\n"
   ],
   "metadata": {
    "collapsed": false,
    "pycharm": {
     "name": "#%%\n"
    }
   }
  }
 ],
 "metadata": {
  "accelerator": "GPU",
  "colab": {
   "collapsed_sections": [],
   "name": "Final Project: Vision Transformer",
   "provenance": []
  },
  "kernelspec": {
   "display_name": "Python 3",
   "language": "python",
   "name": "python3"
  },
  "language_info": {
   "codemirror_mode": {
    "name": "ipython",
    "version": 3
   },
   "file_extension": ".py",
   "mimetype": "text/x-python",
   "name": "python",
   "nbconvert_exporter": "python",
   "pygments_lexer": "ipython3",
   "version": "3.8.1"
  }
 },
 "nbformat": 4,
 "nbformat_minor": 1
}